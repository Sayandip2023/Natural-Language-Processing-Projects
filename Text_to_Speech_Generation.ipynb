{
  "nbformat": 4,
  "nbformat_minor": 0,
  "metadata": {
    "colab": {
      "provenance": [],
      "authorship_tag": "ABX9TyPGdhJzeStpxPQdmsQHIRa8"
    },
    "kernelspec": {
      "name": "python3",
      "display_name": "Python 3"
    },
    "language_info": {
      "name": "python"
    }
  },
  "cells": [
    {
      "cell_type": "markdown",
      "source": [
        "## Importing The Necessary Libraries"
      ],
      "metadata": {
        "id": "oXwiL0na35BP"
      }
    },
    {
      "cell_type": "code",
      "execution_count": 3,
      "metadata": {
        "id": "mlybaBbsz7XL"
      },
      "outputs": [],
      "source": [
        "from gtts import gTTS\n",
        "import os\n",
        "\n",
        "def text_to_speech(text, language='en', filename='output.mp3'):\n",
        "    tts = gTTS(text=text, lang=language, slow=False)\n",
        "    tts.save(filename)\n",
        "    os.system(\"start \" + filename)  # This opens the file using the default media player"
      ]
    },
    {
      "cell_type": "markdown",
      "source": [
        "## Function Definition"
      ],
      "metadata": {
        "id": "Q8KesUD32cxC"
      }
    },
    {
      "cell_type": "code",
      "source": [
        "def text_to_speech(text, language='en', filename='output.mp3'):\n",
        "    tts = gTTS(text=text, lang=language, slow=False)\n",
        "    tts.save(filename)\n",
        "    os.system(\"start \" + filename)  # This opens the file using the default media player"
      ],
      "metadata": {
        "id": "foAG35Xr2glC"
      },
      "execution_count": null,
      "outputs": []
    },
    {
      "cell_type": "markdown",
      "source": [
        "## Function Calling"
      ],
      "metadata": {
        "id": "s6217Dgv2jEO"
      }
    },
    {
      "cell_type": "code",
      "source": [
        "input_text = \"Hello, this is a text-to-speech example using gTTS.\"\n",
        "text_to_speech(input_text)"
      ],
      "metadata": {
        "id": "IpJ8lVFe2plm"
      },
      "execution_count": null,
      "outputs": []
    }
  ]
}