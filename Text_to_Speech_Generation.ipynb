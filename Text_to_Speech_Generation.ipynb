{
  "nbformat": 4,
  "nbformat_minor": 0,
  "metadata": {
    "colab": {
      "provenance": [],
      "authorship_tag": "ABX9TyMYhdQX4J5vTUIFwgJgVOTy",
      "include_colab_link": true
    },
    "kernelspec": {
      "name": "python3",
      "display_name": "Python 3"
    },
    "language_info": {
      "name": "python"
    }
  },
  "cells": [
    {
      "cell_type": "markdown",
      "metadata": {
        "id": "view-in-github",
        "colab_type": "text"
      },
      "source": [
        "<a href=\"https://colab.research.google.com/github/Sayandip2023/Natural-Language-Processing-Projects/blob/main/Text_to_Speech_Generation.ipynb\" target=\"_parent\"><img src=\"https://colab.research.google.com/assets/colab-badge.svg\" alt=\"Open In Colab\"/></a>"
      ]
    },
    {
      "cell_type": "code",
      "execution_count": 3,
      "metadata": {
        "id": "mlybaBbsz7XL"
      },
      "outputs": [],
      "source": [
        "from gtts import gTTS\n",
        "import os\n",
        "\n",
        "def text_to_speech(text, language='en', filename='output.mp3'):\n",
        "    tts = gTTS(text=text, lang=language, slow=False)\n",
        "    tts.save(filename)\n",
        "    os.system(\"start \" + filename)  # This opens the file using the default media player"
      ]
    },
    {
      "cell_type": "markdown",
      "source": [
        "## Function Definition"
      ],
      "metadata": {
        "id": "Q8KesUD32cxC"
      }
    },
    {
      "cell_type": "code",
      "source": [
        "def text_to_speech(text, language='en', filename='output.mp3'):\n",
        "    tts = gTTS(text=text, lang=language, slow=False)\n",
        "    tts.save(filename)\n",
        "    os.system(\"start \" + filename)  # This opens the file using the default media player"
      ],
      "metadata": {
        "id": "foAG35Xr2glC"
      },
      "execution_count": null,
      "outputs": []
    },
    {
      "cell_type": "markdown",
      "source": [
        "## Function Calling"
      ],
      "metadata": {
        "id": "s6217Dgv2jEO"
      }
    },
    {
      "cell_type": "code",
      "source": [
        "input_text = \"Hello, this is a text-to-speech example using gTTS.\"\n",
        "text_to_speech(input_text)"
      ],
      "metadata": {
        "id": "IpJ8lVFe2plm"
      },
      "execution_count": null,
      "outputs": []
    }
  ]
}